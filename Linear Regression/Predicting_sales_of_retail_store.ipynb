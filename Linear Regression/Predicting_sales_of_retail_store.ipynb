{
 "cells": [
  {
   "cell_type": "markdown",
   "id": "8897c345",
   "metadata": {},
   "source": [
    "## Predicting the sales of a retail store based on advertising spend across different channels (TV, radio, newspaper)\n",
    "\n",
    "\n"
   ]
  },
  {
   "cell_type": "markdown",
   "id": "96d7a283",
   "metadata": {},
   "source": [
    "Project Outline\n",
    "\n",
    "1. Data Collection:\n",
    "\n",
    "\n",
    "We'll use the \"Advertising\" dataset, which is often used for this type of analysis. It contains data on advertising spend in TV, radio, and newspapers, along with the corresponding sales."
   ]
  },
  {
   "cell_type": "code",
   "execution_count": 22,
   "id": "5d01334c",
   "metadata": {},
   "outputs": [],
   "source": [
    "import pandas as pd"
   ]
  },
  {
   "cell_type": "code",
   "execution_count": 23,
   "id": "f90c3477",
   "metadata": {},
   "outputs": [],
   "source": [
    "df = pd.read_csv('Advertising.csv')\n",
    "#df.head() # Testing data with head()"
   ]
  },
  {
   "cell_type": "markdown",
   "id": "8cf4e11f",
   "metadata": {},
   "source": [
    "step 2. Data Preparation\n",
    "\n",
    "1. Load the Data: Import the dataset using pandas.\n",
    "\n",
    "2. Explore the Data: Understand the structure, types of features, and check for missing values.\n",
    "\n",
    "3.Clean the Data: Handle any missing values, encode categorical variables if necessary, and normalize numerical features if required."
   ]
  },
  {
   "cell_type": "code",
   "execution_count": 24,
   "id": "5c58b9cd",
   "metadata": {},
   "outputs": [
    {
     "name": "stdout",
     "output_type": "stream",
     "text": [
      "Unnamed: 0    0\n",
      "TV            0\n",
      "Radio         0\n",
      "Newspaper     0\n",
      "Sales         0\n",
      "dtype: int64\n",
      "       Unnamed: 0          TV       Radio   Newspaper       Sales\n",
      "count  200.000000  200.000000  200.000000  200.000000  200.000000\n",
      "mean   100.500000  147.042500   23.264000   30.554000   14.022500\n",
      "std     57.879185   85.854236   14.846809   21.778621    5.217457\n",
      "min      1.000000    0.700000    0.000000    0.300000    1.600000\n",
      "25%     50.750000   74.375000    9.975000   12.750000   10.375000\n",
      "50%    100.500000  149.750000   22.900000   25.750000   12.900000\n",
      "75%    150.250000  218.825000   36.525000   45.100000   17.400000\n",
      "max    200.000000  296.400000   49.600000  114.000000   27.000000\n"
     ]
    }
   ],
   "source": [
    "# Check for missing values\n",
    "print(df.isnull().sum())\n",
    "# Summary statistics\n",
    "print(df.describe())"
   ]
  },
  {
   "cell_type": "markdown",
   "id": "b840bc9c",
   "metadata": {},
   "source": [
    "Step 3. Exploratory Data Analysis (EDA)\n",
    "\n",
    "1. Visualize Relationships: Use plots to visualize the relationship between advertising spend and sales.\n",
    "\n",
    "3. Correlation Analysis: Check the correlation between different features and the target variable."
   ]
  },
  {
   "cell_type": "code",
   "execution_count": 25,
   "id": "cdcde6a6",
   "metadata": {},
   "outputs": [],
   "source": [
    "# Exploratory Data Analysis - EDA\n",
    "import seaborn as sns\n",
    "import matplotlib.pyplot as plt"
   ]
  },
  {
   "cell_type": "code",
   "execution_count": 26,
   "id": "b1934d65",
   "metadata": {},
   "outputs": [
    {
     "data": {
      "image/png": "[encoded data removed]",
      "text/plain": [
       "<Figure size 1058.4x504 with 4 Axes>"
      ]
     },
     "metadata": {
      "needs_background": "light"
     },
     "output_type": "display_data"
    }
   ],
   "source": [
    "sns.pairplot(df, x_vars= ['TV','Newspaper','Radio'], y_vars = ['Sales'], height = 7 , aspect = 0.7, kind = 'reg')\n",
    "corr_matrix  = df .corr()\n",
    "sns.heatmap(corr_matrix, annot = True,  cmap = 'coolwarm')\n",
    "plt.show()"
   ]
  },
  {
   "cell_type": "markdown",
   "id": "27a20731",
   "metadata": {},
   "source": [
    "step 4. Feature Selection\n",
    "1. Select Features: Choose the most relevant features for predicting sales.\n",
    "2. Create Training and Test Sets: Split the data into training and test sets."
   ]
  },
  {
   "cell_type": "code",
   "execution_count": 32,
   "id": "e8a7925d",
   "metadata": {},
   "outputs": [],
   "source": [
    "x = df[['TV', 'Newspaper', 'Radio']]\n",
    "y = df['Sales']\n",
    "\n",
    "from sklearn.model_selection import train_test_split\n",
    "\n",
    "x_train, x_test, y_train, y_test = train_test_split(x, y, test_size = 0.3, random_state = 101)\n"
   ]
  },
  {
   "cell_type": "markdown",
   "id": "238c0146",
   "metadata": {},
   "source": [
    "Step 5. Building the Model\n",
    "\n",
    "1. Import Libraries: Use libraries like scikit-learn to create the model.\n",
    "2. Train the Model: Fit the linear regression model on the training data.\n",
    "3. Evaluate the Model: Use metrics like R-squared and Mean Squared Error (MSE) to evaluate the model."
   ]
  },
  {
   "cell_type": "code",
   "execution_count": 35,
   "id": "e86921fd",
   "metadata": {},
   "outputs": [],
   "source": [
    "from sklearn.linear_model import LinearRegression\n",
    "from sklearn.metrics import mean_squared_error, r2_score\n",
    "# Model building\n",
    "model = LinearRegression()\n",
    "model.fit(x_train, y_train)\n",
    "\n",
    "y_pred = model.predict(x_test)\n"
   ]
  },
  {
   "cell_type": "code",
   "execution_count": 38,
   "id": "b356400b",
   "metadata": {},
   "outputs": [
    {
     "name": "stdout",
     "output_type": "stream",
     "text": [
      "Mean Squared Error for test set 2.2987166978863787\n",
      "R-squared score for test set 0.9185780903322445\n"
     ]
    }
   ],
   "source": [
    "# Evaluating the model \n",
    "mse = mean_squared_error(y_test, y_pred)\n",
    "r2 = r2_score(y_test, y_pred)\n",
    "\n",
    "print('Mean Squared Error for test set',mse)\n",
    "print('R-squared score for test set',r2)"
   ]
  },
  {
   "cell_type": "markdown",
   "id": "ce9d53ca",
   "metadata": {},
   "source": [
    "Step 6. Model Tuning\n",
    "\n",
    "1. Hyperparameter Tuning: Experiment with adding polynomial features or interaction terms.\n",
    "\n",
    "2. Cross-Validation: Use cross-validation to ensure the model's robustness."
   ]
  },
  {
   "cell_type": "code",
   "execution_count": 39,
   "id": "ea2d513d",
   "metadata": {},
   "outputs": [
    {
     "name": "stdout",
     "output_type": "stream",
     "text": [
      "Mean Absolute Error for test set 1.213745773614481\n"
     ]
    }
   ],
   "source": [
    "from sklearn.metrics import mean_absolute_error\n",
    "\n",
    "mae = mean_absolute_error(y_test, y_pred)\n",
    "print('Mean Absolute Error for test set',mae)"
   ]
  },
  {
   "cell_type": "code",
   "execution_count": 56,
   "id": "f615d7d4",
   "metadata": {},
   "outputs": [
    {
     "name": "stdout",
     "output_type": "stream",
     "text": [
      "Mean Squared Error (Polynomial Features): 0.44175055104032684\n",
      "R-squared (Polynomial Features): 0.98435293331468\n"
     ]
    }
   ],
   "source": [
    "from sklearn.preprocessing import PolynomialFeatures\n",
    "\n",
    "# Create polynomial features\n",
    "poly = PolynomialFeatures(degree=2, include_bias=False)\n",
    "X_train_poly = poly.fit_transform(x_train)\n",
    "X_test_poly = poly.transform(x_test)\n",
    "\n",
    "# Create the model\n",
    "model_poly = LinearRegression()\n",
    "\n",
    "# Train the model\n",
    "model_poly.fit(X_train_poly, y_train)\n",
    "\n",
    "# Predict on the test set\n",
    "y_pred_poly = model_poly.predict(X_test_poly)\n",
    "\n",
    "# Evaluate the model\n",
    "mse_poly = mean_squared_error(y_test, y_pred_poly)\n",
    "r2_poly = r2_score(y_test, y_pred_poly)\n",
    "\n",
    "print(f'Mean Squared Error (Polynomial Features): {mse_poly}')\n",
    "print(f'R-squared (Polynomial Features): {r2_poly}')\n"
   ]
  },
  {
   "cell_type": "markdown",
   "id": "6c110892",
   "metadata": {},
   "source": [
    "step 7. Model Deployment\n",
    "\n",
    "1. Save the Model: Save the trained model for future use.\n",
    "2. Create Predictions: Use the model to make predictions on new data."
   ]
  },
  {
   "cell_type": "code",
   "execution_count": 64,
   "id": "a9207b80",
   "metadata": {},
   "outputs": [
    {
     "name": "stdout",
     "output_type": "stream",
     "text": [
      "cross validation scores: [3.1365399  2.42566776 1.58522508 5.42615506 2.79114519]±1.2847825826540034\n",
      "cross validation scores: [0.87865198 0.91763212 0.92933032 0.81443904 0.89547829]±0.04034052587780585\n"
     ]
    }
   ],
   "source": [
    "#Cross Validation\n",
    "from sklearn.model_selection import cross_val_score\n",
    "\n",
    "scores = cross_val_score(model, x, y, cv = 5, scoring = 'neg_mean_squared_error')\n",
    "mse_score = -scores\n",
    "\n",
    "print(f'cross validation scores: {mse_score}±{mse_score.std()}')\n",
    "\n",
    "r2_scores = cross_val_score(model, x, y, cv = 5, scoring = 'r2')\n",
    "print(f'cross validation scores: {r2_scores}±{r2_scores.std()}')\n"
   ]
  },
  {
   "cell_type": "code",
   "execution_count": 76,
   "id": "f56829a5",
   "metadata": {},
   "outputs": [],
   "source": [
    "import joblib\n",
    "\n",
    "# Save the model\n",
    "joblib.dump(model, 'linear_regression_model.pkl')\n",
    "\n",
    "# Load the model (for future use)\n",
    "loaded_model = joblib.load('linear_regression_model.pkl')\n",
    "\n",
    "# Create new predictions\n",
    "new_predictions = loaded_model.predict(x_test)\n"
   ]
  },
  {
   "cell_type": "code",
   "execution_count": 79,
   "id": "0a02bc53",
   "metadata": {},
   "outputs": [
    {
     "name": "stdout",
     "output_type": "stream",
     "text": [
      "     Actual  Predicted\n",
      "37     14.7  15.741313\n",
      "109    19.8  19.610626\n",
      "31     11.9  11.448889\n",
      "89     16.7  17.008198\n",
      "66      9.5   9.172857\n",
      "Mean Squared Error: 2.2987166978863787\n",
      "R-squared: 0.9185780903322445\n"
     ]
    }
   ],
   "source": [
    "import numpy as np\n",
    "from sklearn.metrics import mean_squared_error, r2_score\n",
    "\n",
    "# Create a DataFrame to display actual vs predicted values\n",
    "results_df = pd.DataFrame({'Actual': y_test, 'Predicted': new_predictions})\n",
    "\n",
    "# Calculate evaluation metrics\n",
    "mse = mean_squared_error(y_test, new_predictions)\n",
    "r2 = r2_score(y_test, new_predictions)\n",
    "\n",
    "# Display the first few rows of the results\n",
    "print(results_df.head())\n",
    "\n",
    "# Print the evaluation metrics\n",
    "print(f'Mean Squared Error: {mse}')\n",
    "print(f'R-squared: {r2}')\n"
   ]
  },
  {
   "cell_type": "markdown",
   "id": "62f81cd0",
   "metadata": {},
   "source": [
    "### Summary\n",
    "##### 1. Polynomial Features: Make sure that polynomial features are created using fit_transform on the training set and transform on the test set.\n",
    "##### 2. Evaluation: Use metrics like MSE and R-squared to evaluate both the base model and the polynomial model.\n",
    "##### 3. Cross-Validation: Validate the model's performance using cross-validation.\n",
    "##### 4. Deployment: Save and load the model for future use."
   ]
  },
  {
   "cell_type": "code",
   "execution_count": null,
   "id": "c966103f",
   "metadata": {},
   "outputs": [],
   "source": []
  }
 ],
 "metadata": {
  "kernelspec": {
   "display_name": "Python 3 (ipykernel)",
   "language": "python",
   "name": "python3"
  },
  "language_info": {
   "codemirror_mode": {
    "name": "ipython",
    "version": 3
   },
   "file_extension": ".py",
   "mimetype": "text/x-python",
   "name": "python",
   "nbconvert_exporter": "python",
   "pygments_lexer": "ipython3",
   "version": "3.9.7"
  }
 },
 "nbformat": 4,
 "nbformat_minor": 5
}
